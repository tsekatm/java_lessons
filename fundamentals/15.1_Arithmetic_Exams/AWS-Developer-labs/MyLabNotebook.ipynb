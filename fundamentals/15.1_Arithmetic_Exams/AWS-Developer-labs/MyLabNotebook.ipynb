{
 "cells": [
  {
   "cell_type": "code",
   "execution_count": 1,
   "id": "232b9fc1",
   "metadata": {},
   "outputs": [
    {
     "name": "stdout",
     "output_type": "stream",
     "text": [
      "Hello Jupyter!\n"
     ]
    }
   ],
   "source": [
    "print('Hello Jupyter!')"
   ]
  },
  {
   "cell_type": "code",
   "execution_count": 2,
   "id": "9bef8ceb",
   "metadata": {},
   "outputs": [
    {
     "name": "stdout",
     "output_type": "stream",
     "text": [
      "This is a new cell.\n"
     ]
    }
   ],
   "source": [
    "print('This is a new cell.')"
   ]
  },
  {
   "cell_type": "code",
   "execution_count": 3,
   "id": "027bd458",
   "metadata": {},
   "outputs": [],
   "source": [
    "import time\n",
    "time.sleep(10)"
   ]
  },
  {
   "cell_type": "code",
   "execution_count": 4,
   "id": "b7702534",
   "metadata": {},
   "outputs": [
    {
     "name": "stdout",
     "output_type": "stream",
     "text": [
      "14\n",
      "144\n",
      "6.0\n"
     ]
    }
   ],
   "source": [
    "a = 12\n",
    "b = 2\n",
    "print(a + b)\n",
    "print(a**b)\n",
    "print(a/b)"
   ]
  },
  {
   "cell_type": "markdown",
   "id": "9a2be455",
   "metadata": {},
   "source": [
    "# Technical Report\n",
    "\n",
    "Here is my technical report."
   ]
  },
  {
   "cell_type": "markdown",
   "id": "7911b6eb",
   "metadata": {},
   "source": [
    "# Header 1\n",
    "## Header 2\n",
    "### Header 3\n",
    "#### Header 4"
   ]
  },
  {
   "cell_type": "markdown",
   "id": "5cf3b5cc",
   "metadata": {},
   "source": [
    "- Item 1\n",
    "- Item 2\n",
    "- Item 3"
   ]
  },
  {
   "cell_type": "markdown",
   "id": "8c79b3fe",
   "metadata": {},
   "source": [
    "```python\n",
    "s = 'Syntax highlighting for Python'\n",
    "print(x)x "
   ]
  },
  {
   "cell_type": "markdown",
   "id": "cf2c11ee",
   "metadata": {},
   "source": [
    "```python\n",
    "s = 'Syntax highlighting for Python'\n",
    "print(x)x ```"
   ]
  },
  {
   "cell_type": "code",
   "execution_count": 5,
   "id": "de3ea914",
   "metadata": {},
   "outputs": [
    {
     "name": "stdout",
     "output_type": "stream",
     "text": [
      "total 20\r\n",
      "drwx------ 2 root     root     16384 Oct  6 02:50 \u001b[0m\u001b[01;34mlost+found\u001b[0m/\r\n",
      "-rw-rw-r-- 1 ec2-user ec2-user  2547 Oct  6 03:13 MyLabNotebook.ipynb\r\n"
     ]
    }
   ],
   "source": [
    "ls -l"
   ]
  },
  {
   "cell_type": "code",
   "execution_count": 6,
   "id": "cd9e6780",
   "metadata": {},
   "outputs": [
    {
     "name": "stdout",
     "output_type": "stream",
     "text": [
      "/home/ec2-user/SageMaker\n",
      "total 20\n",
      "drwx------ 2 root     root     16384 Oct  6 02:50 lost+found\n",
      "-rw-rw-r-- 1 ec2-user ec2-user  2547 Oct  6 03:13 MyLabNotebook.ipynb\n",
      "Fri Oct  6 03:13:58 UTC 2023\n"
     ]
    }
   ],
   "source": [
    "%%bash\n",
    "pwd\n",
    "ls -l\n",
    "date"
   ]
  },
  {
   "cell_type": "code",
   "execution_count": null,
   "id": "ba66cafd",
   "metadata": {},
   "outputs": [],
   "source": []
  }
 ],
 "metadata": {
  "kernelspec": {
   "display_name": "conda_python3",
   "language": "python",
   "name": "conda_python3"
  },
  "language_info": {
   "codemirror_mode": {
    "name": "ipython",
    "version": 3
   },
   "file_extension": ".py",
   "mimetype": "text/x-python",
   "name": "python",
   "nbconvert_exporter": "python",
   "pygments_lexer": "ipython3",
   "version": "3.10.12"
  }
 },
 "nbformat": 4,
 "nbformat_minor": 5
}
